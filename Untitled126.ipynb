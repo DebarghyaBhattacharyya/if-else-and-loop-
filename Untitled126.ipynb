{
 "cells": [
  {
   "cell_type": "code",
   "execution_count": 25,
   "id": "fd265f56",
   "metadata": {},
   "outputs": [
    {
     "name": "stdout",
     "output_type": "stream",
     "text": [
      "Enter the number21\n",
      "number is divisible by 7\n"
     ]
    }
   ],
   "source": [
    "#Write a program to check a number is divisible by 7 or not.\n",
    "\n",
    "x = int(input(\"Enter the number\"))\n",
    "if x%7 ==0:\n",
    "    print(\"number is divisible by 7\")\n",
    "else:\n",
    "    print(\"number is not divisible by 7\")"
   ]
  },
  {
   "cell_type": "code",
   "execution_count": 3,
   "id": "fc51a5bf",
   "metadata": {},
   "outputs": [
    {
     "name": "stdout",
     "output_type": "stream",
     "text": [
      "Enter the number9\n",
      "Bye\n"
     ]
    }
   ],
   "source": [
    "#Write a program to display “Hello” if a number entered by the user is multiple of 5 otherwise print “Bye\".\n",
    "\n",
    "n = int(input(\"Enter the number\"))\n",
    "if n%5 == 0:\n",
    "    print(\"Hello\")\n",
    "else:\n",
    "    print(\"Bye\")"
   ]
  },
  {
   "cell_type": "code",
   "execution_count": 4,
   "id": "6a6bfd01",
   "metadata": {},
   "outputs": [
    {
     "name": "stdout",
     "output_type": "stream",
     "text": [
      "Enter the number45\n",
      "The last digit of 45 is 5\n"
     ]
    }
   ],
   "source": [
    "#Write a program to print last digits of a number.\n",
    "\n",
    "number = int(input(\"Enter the number\"))\n",
    "last_digit = int(number) % 10\n",
    "print(\"The last digit of\", number, \"is\", last_digit)"
   ]
  },
  {
   "cell_type": "code",
   "execution_count": 5,
   "id": "2b22a4c5",
   "metadata": {},
   "outputs": [
    {
     "name": "stdout",
     "output_type": "stream",
     "text": [
      "Enter the number1\n",
      "number is positive\n"
     ]
    }
   ],
   "source": [
    "#Write a python program to check a number(accept from user) positive or negative.\n",
    "\n",
    "number = n = int(input(\"Enter the number\"))\n",
    "if n>0:\n",
    "    print(\"number is positive\")\n",
    "else:\n",
    "    print(\"number is negative\")"
   ]
  },
  {
   "cell_type": "code",
   "execution_count": 1,
   "id": "60cc82f9",
   "metadata": {},
   "outputs": [
    {
     "name": "stdout",
     "output_type": "stream",
     "text": [
      "Enter the number6\n",
      "the number is divisible by 2 and 3\n"
     ]
    }
   ],
   "source": [
    "#Write a python program to check a number(accept from user) divisible by 2 and 3.\n",
    "\n",
    "x = int(input(\"Enter the number\"))\n",
    "if x%2 ==0 and x%3 ==0:\n",
    "    print(\"the number is divisible by 2 and 3\")\n",
    "else:\n",
    "    print(\"the number is not divisible by 2 and 3\")"
   ]
  },
  {
   "cell_type": "code",
   "execution_count": 6,
   "id": "957fbc61",
   "metadata": {},
   "outputs": [
    {
     "name": "stdout",
     "output_type": "stream",
     "text": [
      "1\n",
      "2\n",
      "3\n",
      "4\n",
      "5\n",
      "6\n",
      "7\n",
      "8\n",
      "9\n",
      "10\n"
     ]
    }
   ],
   "source": [
    "#Print First 10 natural numbers using while loop.\n",
    "\n",
    "num = 1\n",
    "count = 0\n",
    "while count < 10:\n",
    "    print(num)\n",
    "    num += 1\n",
    "    count += 1"
   ]
  },
  {
   "cell_type": "code",
   "execution_count": 8,
   "id": "82e2e856",
   "metadata": {},
   "outputs": [
    {
     "name": "stdout",
     "output_type": "stream",
     "text": [
      "Enter a number: 12\n",
      "Multiplication table of 12\n",
      "12 x 1 = 12\n",
      "12 x 2 = 24\n",
      "12 x 3 = 36\n",
      "12 x 4 = 48\n",
      "12 x 5 = 60\n",
      "12 x 6 = 72\n",
      "12 x 7 = 84\n",
      "12 x 8 = 96\n",
      "12 x 9 = 108\n",
      "12 x 10 = 120\n"
     ]
    }
   ],
   "source": [
    "#Write a program to print multiplication table of a given number.\n",
    "\n",
    "num = int(input(\"Enter a number: \"))\n",
    "print(\"Multiplication table of\", num)\n",
    "for i in range(1, 11):\n",
    "    print(num, \"x\", i, \"=\", num*i)"
   ]
  },
  {
   "cell_type": "code",
   "execution_count": 12,
   "id": "a95a9dcf",
   "metadata": {},
   "outputs": [
    {
     "name": "stdout",
     "output_type": "stream",
     "text": [
      "-10\n",
      "-9\n",
      "-8\n",
      "-7\n",
      "-6\n",
      "-5\n",
      "-4\n",
      "-3\n",
      "-2\n",
      "-1\n"
     ]
    }
   ],
   "source": [
    "#Display numbers from -10 to -1 using for loop.\n",
    "\n",
    "for i in range(-10,0):\n",
    "    print(i)"
   ]
  },
  {
   "cell_type": "code",
   "execution_count": 18,
   "id": "01b6b7ca",
   "metadata": {},
   "outputs": [
    {
     "name": "stdout",
     "output_type": "stream",
     "text": [
      "Enter the number587\n",
      "Reverse of the given number is: 785\n"
     ]
    }
   ],
   "source": [
    "#Reverse a given integer number.\n",
    "\n",
    "number = int(input(\"Enter the number\"))\n",
    "reverse = 0\n",
    "while number > 0:\n",
    "    remainder = number % 10\n",
    "    reverse = (reverse * 10) + remainder\n",
    "    number = number // 10\n",
    "print(\"Reverse of the given number is:\", reverse)"
   ]
  },
  {
   "cell_type": "code",
   "execution_count": 23,
   "id": "af914cbb",
   "metadata": {},
   "outputs": [
    {
     "name": "stdout",
     "output_type": "stream",
     "text": [
      "original list before reverse: ['Debarghya Bhattacharyya', 'Python', 'Wipro']\n",
      "list after reverse ['Debarghya Bhattacharyya']\n",
      "list after reverse ['Python', 'Debarghya Bhattacharyya']\n",
      "list after reverse ['Wipro', 'Python', 'Debarghya Bhattacharyya']\n"
     ]
    }
   ],
   "source": [
    "#Print list in reverse order using a loop.\n",
    "\n",
    "original_list = [\"Debarghya Bhattacharyya\", \"Python\", \"Wipro\"]\n",
    "print(\"original list before reverse:\", original_list)\n",
    "reverse_list = []\n",
    "for x in original_list:\n",
    "    reverse_list = [x] + reverse_list\n",
    "    print(\"list after reverse\", reverse_list)    "
   ]
  },
  {
   "cell_type": "code",
   "execution_count": null,
   "id": "23c2a470",
   "metadata": {},
   "outputs": [],
   "source": []
  }
 ],
 "metadata": {
  "kernelspec": {
   "display_name": "Python 3 (ipykernel)",
   "language": "python",
   "name": "python3"
  },
  "language_info": {
   "codemirror_mode": {
    "name": "ipython",
    "version": 3
   },
   "file_extension": ".py",
   "mimetype": "text/x-python",
   "name": "python",
   "nbconvert_exporter": "python",
   "pygments_lexer": "ipython3",
   "version": "3.9.7"
  }
 },
 "nbformat": 4,
 "nbformat_minor": 5
}
